{
 "cells": [
  {
   "cell_type": "code",
   "execution_count": 1,
   "metadata": {},
   "outputs": [],
   "source": [
    "import json\n",
    "import pickle\n",
    "import pandas as pd\n",
    "import numpy as np\n",
    "from scipy import stats\n",
    "from scipy.stats import norm, skew\n",
    "import matplotlib.pyplot as plt\n",
    "%matplotlib inline\n",
    "import seaborn as sns\n",
    "sns.set()"
   ]
  },
  {
   "cell_type": "code",
   "execution_count": 2,
   "metadata": {},
   "outputs": [
    {
     "data": {
      "text/html": [
       "<div>\n",
       "<style scoped>\n",
       "    .dataframe tbody tr th:only-of-type {\n",
       "        vertical-align: middle;\n",
       "    }\n",
       "\n",
       "    .dataframe tbody tr th {\n",
       "        vertical-align: top;\n",
       "    }\n",
       "\n",
       "    .dataframe thead th {\n",
       "        text-align: right;\n",
       "    }\n",
       "</style>\n",
       "<table border=\"1\" class=\"dataframe\">\n",
       "  <thead>\n",
       "    <tr style=\"text-align: right;\">\n",
       "      <th></th>\n",
       "      <th>event_id</th>\n",
       "      <th>member_id</th>\n",
       "      <th>yes_rsvp_count</th>\n",
       "    </tr>\n",
       "  </thead>\n",
       "  <tbody>\n",
       "    <tr>\n",
       "      <th>1</th>\n",
       "      <td>99516892</td>\n",
       "      <td>3856066</td>\n",
       "      <td>16</td>\n",
       "    </tr>\n",
       "    <tr>\n",
       "      <th>2</th>\n",
       "      <td>105695942</td>\n",
       "      <td>3856066</td>\n",
       "      <td>18</td>\n",
       "    </tr>\n",
       "    <tr>\n",
       "      <th>3</th>\n",
       "      <td>115014682</td>\n",
       "      <td>3856066</td>\n",
       "      <td>51</td>\n",
       "    </tr>\n",
       "    <tr>\n",
       "      <th>4</th>\n",
       "      <td>126233622</td>\n",
       "      <td>3856066</td>\n",
       "      <td>60</td>\n",
       "    </tr>\n",
       "    <tr>\n",
       "      <th>5</th>\n",
       "      <td>133544832</td>\n",
       "      <td>3856066</td>\n",
       "      <td>94</td>\n",
       "    </tr>\n",
       "  </tbody>\n",
       "</table>\n",
       "</div>"
      ],
      "text/plain": [
       "    event_id  member_id  yes_rsvp_count\n",
       "1   99516892    3856066              16\n",
       "2  105695942    3856066              18\n",
       "3  115014682    3856066              51\n",
       "4  126233622    3856066              60\n",
       "5  133544832    3856066              94"
      ]
     },
     "execution_count": 2,
     "metadata": {},
     "output_type": "execute_result"
    }
   ],
   "source": [
    "# load data\n",
    "# event hosts: event_id, host member id, number of rsvps\n",
    "df_event_hosts = pd.read_pickle('df_event_hosts')\n",
    "# group topics\n",
    "df_group_topics = pd.read_pickle('df_group_topics')\n",
    "# event info\n",
    "df_events = pd.read_pickle('df_events')\n",
    "df_events['time'] =  pd.to_datetime(df_events['time'], unit='ms').dt.tz_localize('GMT').dt.tz_convert('US/Eastern')\n",
    "df_events['duration'] = df_events['duration']/3600000\n",
    "df_events = df_events.rename(columns = {'id':'event_id', 'time':'event_time', 'rating_average': 'event_rating', 'rating_count':'event_rating_count'})\n",
    "# rsvp info\n",
    "df_rsvps = pd.read_pickle('df_rsvps')\n",
    "\n",
    "# event host info\n",
    "# remove entry if there is no event_host_member_id\n",
    "df_event_hosts = df_event_hosts.loc[df_event_hosts.event_hosts.notnull(),:]\n",
    "# column renaming\n",
    "df_event_hosts = df_event_hosts.rename(columns = {'event_hosts': 'member_id', 'id': 'event_id'})\n",
    "df_event_hosts.member_id = df_event_hosts.member_id.astype(int)\n",
    "df_event_hosts.head()\n"
   ]
  },
  {
   "cell_type": "code",
   "execution_count": 3,
   "metadata": {},
   "outputs": [],
   "source": [
    "# map event_id and member_id\n",
    "with open('group_url_topic_map.pkl', 'rb') as f:\n",
    "    group_url_topic_map = pickle.load(f)\n",
    "with open('group_id_topic_map.pkl', 'rb') as f:\n",
    "    group_id_topic_map = pickle.load(f)\n",
    "\n",
    "df_rsvps['topic'] = df_rsvps['group_urlname'].map(group_url_topic_map)\n",
    "df_events['topic'] = df_events['group_urlname'].map(group_url_topic_map)\n",
    "# map_dicts = df_events.loc[:,['id','group_urlname', 'topic']].set_index('id').to_dict()\n",
    "#df_event_hosts['topic'] = df_event_hosts['event_id'].map(map_dicts['topic'])\n",
    "df_event_hosts.drop('yes_rsvp_count', axis = 1, inplace = True)"
   ]
  },
  {
   "cell_type": "code",
   "execution_count": 4,
   "metadata": {},
   "outputs": [],
   "source": [
    "#\n",
    "event_rating_map = df_events.loc[:, ['event_id','event_rating', 'event_rating_count']].set_index('event_id').to_dict()\n",
    "\n",
    "# separate \n",
    "df_event_hosts['event_rating'] = df_event_hosts.event_id.map(event_rating_map['event_rating'])\n",
    "df_event_hosts['event_rating_count'] = df_event_hosts.event_id.map(event_rating_map['event_rating_count'])\n",
    "member_host_count_map = df_event_hosts.loc[df_event_hosts['event_rating_count']>=3,:].member_id.value_counts().to_dict()\n",
    "df_event_hosts['host_count']= df_event_hosts.member_id.map(member_host_count_map)\n",
    "\n",
    "# venue info \n",
    "df_venues = pd.read_pickle('df_venues')\n",
    "event_venue_map = df_venues.loc[df_venues.rating_count > 3, 'rating':'event_id'].set_index('event_id').to_dict()\n",
    "df_events['venue_rating'] = df_events['event_id'].map(event_venue_map['rating'])\n",
    "df_events['venue_rating_count'] = df_events['event_id'].map(event_venue_map['rating_count'])\n",
    "\n",
    "events_cols = ['event_id', 'waitlist_count','yes_rsvp_count', 'event_time', 'duration','topic', 'venue_rating']\n",
    "df_events_info = df_events.loc[:, events_cols].set_index('event_id')\n",
    "df_events_info.head()\n",
    "\n",
    "#df_event_hosts\n",
    "df_event_hosts = df_event_hosts.join(df_events_info, on = 'event_id')\n"
   ]
  },
  {
   "cell_type": "code",
   "execution_count": 5,
   "metadata": {},
   "outputs": [],
   "source": [
    "# select cases: \n",
    "mask = (df_event_hosts['host_count']>=5) & (df_event_hosts['event_rating_count']>=3)\n",
    "df = df_event_hosts.loc[mask,:].sort_values(['member_id', 'event_time'], ascending=False).reset_index().copy()\n",
    "df.drop('index', axis = 1, inplace = True)\n",
    "\n",
    "# split \n",
    "test_index = list(df.member_id.diff()[df.member_id.diff() != 0].index.values)\n",
    "train_index = [i + 1 for i in test_index] + [i + 2 for i in test_index]\n",
    "\n",
    "#df_event_hosts.loc[most_recent_index,:].sort_values('member_id',ascending = False)\n",
    "host_avg_rating_map = df.loc[~df.index.isin(test_index + train_index),:].groupby('member_id').apply(lambda x: np.average(x['event_rating'], weights=x['event_rating_count'])).to_dict()\n",
    "\n",
    "#df['member_rating'] = df_second.member_id.map(host_avg_rating_map)\n",
    "#df['venue_rating'] = df_second.event_id.map(event_venue_map['rating'])\n",
    "df_test = df.loc[df.index.isin(test_index),:].copy()\n",
    "df_train = df.loc[df.index.isin(train_index),:].copy()\n",
    "df_train['member_rating'] = df_train.member_id.map(host_avg_rating_map)\n",
    "df_test['member_rating'] = df_test.member_id.map(host_avg_rating_map)\n",
    "\n",
    "train_n = df_train.shape[0]\n",
    "df_all = pd.concat([df_train, df_test], axis = 0)\n",
    "df_all.drop(['event_id','member_id','event_rating_count', 'event_time'], axis=1, inplace=True)\n",
    "df_all = df_all[['event_rating', 'venue_rating', 'member_rating', 'host_count', 'waitlist_count', 'yes_rsvp_count', 'duration', 'topic']]\n"
   ]
  },
  {
   "cell_type": "code",
   "execution_count": 6,
   "metadata": {},
   "outputs": [],
   "source": [
    "# transform skewness\n",
    "from scipy.special import boxcox1p\n",
    "# fill na\n",
    "df_all.venue_rating.fillna(df.venue_rating.median(), inplace=True)\n",
    "df_all.duration.fillna(df.duration.median(), inplace=True)\n",
    "\n",
    "# skew\n",
    "lam = 0.01\n",
    "columns = df_all.dtypes[df_all.dtypes != 'object'].index\n",
    "for col in columns:\n",
    "    df_all[col] = boxcox1p(df_all[col], lam)\n",
    "\n",
    "df_all = pd.get_dummies(df_all)"
   ]
  },
  {
   "cell_type": "code",
   "execution_count": 7,
   "metadata": {},
   "outputs": [],
   "source": [
    "X_train = df_all.iloc[:train_n, 1:]\n",
    "y_train = df_all.iloc[:train_n, 0]\n",
    "X_test = df_all.iloc[train_n:, 1:]\n",
    "y_test = df_all.iloc[train_n:, 0]"
   ]
  },
  {
   "cell_type": "code",
   "execution_count": 30,
   "metadata": {},
   "outputs": [],
   "source": [
    "from sklearn.linear_model import LinearRegression, ElasticNet, Lasso, Ridge\n",
    "from sklearn.pipeline import make_pipeline\n",
    "from sklearn.preprocessing import RobustScaler\n",
    "from sklearn.model_selection import KFold, cross_val_score, train_test_split\n",
    "from sklearn.metrics import mean_squared_error, r2_score\n"
   ]
  },
  {
   "cell_type": "code",
   "execution_count": 9,
   "metadata": {},
   "outputs": [],
   "source": [
    "# five fold \n",
    "n_folds = 5\n",
    "def rmsle_cv(model):\n",
    "    kf = KFold(n_folds, shuffle=True, random_state=42).get_n_splits(X_train)\n",
    "    rmse= np.sqrt(-cross_val_score(model, X_train, y_train, scoring=\"neg_mean_squared_error\", cv = kf))\n",
    "    return(rmse)"
   ]
  },
  {
   "cell_type": "code",
   "execution_count": 32,
   "metadata": {},
   "outputs": [
    {
     "data": {
      "text/html": [
       "<div>\n",
       "<style scoped>\n",
       "    .dataframe tbody tr th:only-of-type {\n",
       "        vertical-align: middle;\n",
       "    }\n",
       "\n",
       "    .dataframe tbody tr th {\n",
       "        vertical-align: top;\n",
       "    }\n",
       "\n",
       "    .dataframe thead th {\n",
       "        text-align: right;\n",
       "    }\n",
       "</style>\n",
       "<table border=\"1\" class=\"dataframe\">\n",
       "  <thead>\n",
       "    <tr style=\"text-align: right;\">\n",
       "      <th></th>\n",
       "      <th>mean</th>\n",
       "      <th>std</th>\n",
       "    </tr>\n",
       "  </thead>\n",
       "  <tbody>\n",
       "    <tr>\n",
       "      <th>Enet</th>\n",
       "      <td>0.061226</td>\n",
       "      <td>0.007415</td>\n",
       "    </tr>\n",
       "    <tr>\n",
       "      <th>lasso</th>\n",
       "      <td>0.061232</td>\n",
       "      <td>0.007421</td>\n",
       "    </tr>\n",
       "    <tr>\n",
       "      <th>ridge</th>\n",
       "      <td>0.061261</td>\n",
       "      <td>0.007360</td>\n",
       "    </tr>\n",
       "    <tr>\n",
       "      <th>linear</th>\n",
       "      <td>0.061261</td>\n",
       "      <td>0.007360</td>\n",
       "    </tr>\n",
       "  </tbody>\n",
       "</table>\n",
       "</div>"
      ],
      "text/plain": [
       "            mean       std\n",
       "Enet    0.061226  0.007415\n",
       "lasso   0.061232  0.007421\n",
       "ridge   0.061261  0.007360\n",
       "linear  0.061261  0.007360"
      ]
     },
     "execution_count": 32,
     "metadata": {},
     "output_type": "execute_result"
    }
   ],
   "source": [
    "# compare models\n",
    "lasso = make_pipeline(RobustScaler(), Lasso(alpha =0.0005, random_state=1))\n",
    "lasso_score = rmsle_cv(lasso)\n",
    "\n",
    "ridge = make_pipeline(RobustScaler(), Ridge(alpha =0.0005, random_state=1))\n",
    "ridge_score = rmsle_cv(ridge)\n",
    "\n",
    "ENet = make_pipeline(RobustScaler(), ElasticNet(alpha=0.0005, l1_ratio=.9, random_state=3))\n",
    "Enet_score = rmsle_cv(ENet)\n",
    "\n",
    "linear = LinearRegression()\n",
    "linear_score = rmsle_cv(linear)\n",
    "\n",
    "scores = [lasso_score, ridge_score, Enet_score, linear_score]\n",
    "df_score = pd.DataFrame({'mean':np.mean(scores, axis = 1),\n",
    "                        'std':np.std(scores, axis = 1) }, \n",
    "                       index = ['lasso','ridge','Enet','linear'])\n",
    "df_score.sort_values('mean')"
   ]
  },
  {
   "cell_type": "code",
   "execution_count": 28,
   "metadata": {},
   "outputs": [
    {
     "name": "stdout",
     "output_type": "stream",
     "text": [
      "Prediction increased by 7.71%\n"
     ]
    }
   ],
   "source": [
    "# with information about venues and hosts\n",
    "ENet.fit(X_train, y_train)\n",
    "y_pred1 = ENet.predict(X_test)\n",
    "\n",
    "# withou information about venues and hosts\n",
    "ENet.fit(X_train.iloc[:,2:], y_train)\n",
    "y_pred2 = ENet.predict(X_test.iloc[:,2:])\n",
    "\n",
    "# Explained variance score: 1 is perfect prediction\n",
    "r2_score(y_test, y_pred1)\n",
    "r2_score(y_test, y_pred2)\n",
    "increase = np.subtract(r2_score(y_test, y_pred1), r2_score(y_test, y_pred2))\n",
    "print(f'Prediction increased by {increase*100:.2f}%')"
   ]
  },
  {
   "cell_type": "code",
   "execution_count": null,
   "metadata": {},
   "outputs": [],
   "source": []
  }
 ],
 "metadata": {
  "kernelspec": {
   "display_name": "Python 3",
   "language": "python",
   "name": "python3"
  },
  "language_info": {
   "codemirror_mode": {
    "name": "ipython",
    "version": 3
   },
   "file_extension": ".py",
   "mimetype": "text/x-python",
   "name": "python",
   "nbconvert_exporter": "python",
   "pygments_lexer": "ipython3",
   "version": "3.6.5"
  }
 },
 "nbformat": 4,
 "nbformat_minor": 2
}
